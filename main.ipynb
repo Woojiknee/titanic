{
  "nbformat": 4,
  "nbformat_minor": 0,
  "metadata": {
    "colab": {
      "name": "main.ipynb",
      "provenance": [],
      "collapsed_sections": [],
      "authorship_tag": "ABX9TyNunsVx9g10Jk2sdPxNUp5P",
      "include_colab_link": true
    },
    "kernelspec": {
      "name": "python3",
      "display_name": "Python 3"
    },
    "language_info": {
      "name": "python"
    }
  },
  "cells": [
    {
      "cell_type": "markdown",
      "metadata": {
        "id": "view-in-github",
        "colab_type": "text"
      },
      "source": [
        "<a href=\"https://colab.research.google.com/github/Woojiknee/titanic/blob/main/main.ipynb\" target=\"_parent\"><img src=\"https://colab.research.google.com/assets/colab-badge.svg\" alt=\"Open In Colab\"/></a>"
      ]
    },
    {
      "cell_type": "code",
      "execution_count": 84,
      "metadata": {
        "id": "DKb5tSj0y4sn"
      },
      "outputs": [],
      "source": [
        "# lib/modules\n",
        "\n",
        "import pandas as pd\n",
        "import numpy as np\n",
        "import matplotlib.pyplot as plt\n",
        "import seaborn as sns"
      ]
    },
    {
      "cell_type": "code",
      "source": [
        "# options\n",
        "\n",
        "pd.set_option('display.max_columns', 50)"
      ],
      "metadata": {
        "id": "47psXNh01Qay"
      },
      "execution_count": 85,
      "outputs": []
    },
    {
      "cell_type": "code",
      "source": [
        "# train / test data\n",
        "\n",
        "train_df = pd.read_csv('/content/titanic/data/train.csv')\n",
        "test_df = pd.read_csv('/content/titanic/data/test.csv')"
      ],
      "metadata": {
        "id": "lWrLM4ec079q"
      },
      "execution_count": 86,
      "outputs": []
    },
    {
      "cell_type": "code",
      "source": [
        "#EDA\n",
        "\n",
        "## train set과 test set 성질이 비슷한가?\n",
        "\n",
        "train_df.describe()\n",
        "test_df.describe()"
      ],
      "metadata": {
        "colab": {
          "base_uri": "https://localhost:8080/",
          "height": 300
        },
        "id": "gXyAlfOP1Izq",
        "outputId": "9e060ed9-0bdf-4588-ddf7-9fa528f6dc5d"
      },
      "execution_count": 87,
      "outputs": [
        {
          "output_type": "execute_result",
          "data": {
            "text/plain": [
              "       PassengerId      Pclass         Age       SibSp       Parch        Fare\n",
              "count   418.000000  418.000000  332.000000  418.000000  418.000000  417.000000\n",
              "mean   1100.500000    2.265550   30.272590    0.447368    0.392344   35.627188\n",
              "std     120.810458    0.841838   14.181209    0.896760    0.981429   55.907576\n",
              "min     892.000000    1.000000    0.170000    0.000000    0.000000    0.000000\n",
              "25%     996.250000    1.000000   21.000000    0.000000    0.000000    7.895800\n",
              "50%    1100.500000    3.000000   27.000000    0.000000    0.000000   14.454200\n",
              "75%    1204.750000    3.000000   39.000000    1.000000    0.000000   31.500000\n",
              "max    1309.000000    3.000000   76.000000    8.000000    9.000000  512.329200"
            ],
            "text/html": [
              "\n",
              "  <div id=\"df-c53e87d3-6a25-43c1-8d89-b944aa136851\">\n",
              "    <div class=\"colab-df-container\">\n",
              "      <div>\n",
              "<style scoped>\n",
              "    .dataframe tbody tr th:only-of-type {\n",
              "        vertical-align: middle;\n",
              "    }\n",
              "\n",
              "    .dataframe tbody tr th {\n",
              "        vertical-align: top;\n",
              "    }\n",
              "\n",
              "    .dataframe thead th {\n",
              "        text-align: right;\n",
              "    }\n",
              "</style>\n",
              "<table border=\"1\" class=\"dataframe\">\n",
              "  <thead>\n",
              "    <tr style=\"text-align: right;\">\n",
              "      <th></th>\n",
              "      <th>PassengerId</th>\n",
              "      <th>Pclass</th>\n",
              "      <th>Age</th>\n",
              "      <th>SibSp</th>\n",
              "      <th>Parch</th>\n",
              "      <th>Fare</th>\n",
              "    </tr>\n",
              "  </thead>\n",
              "  <tbody>\n",
              "    <tr>\n",
              "      <th>count</th>\n",
              "      <td>418.000000</td>\n",
              "      <td>418.000000</td>\n",
              "      <td>332.000000</td>\n",
              "      <td>418.000000</td>\n",
              "      <td>418.000000</td>\n",
              "      <td>417.000000</td>\n",
              "    </tr>\n",
              "    <tr>\n",
              "      <th>mean</th>\n",
              "      <td>1100.500000</td>\n",
              "      <td>2.265550</td>\n",
              "      <td>30.272590</td>\n",
              "      <td>0.447368</td>\n",
              "      <td>0.392344</td>\n",
              "      <td>35.627188</td>\n",
              "    </tr>\n",
              "    <tr>\n",
              "      <th>std</th>\n",
              "      <td>120.810458</td>\n",
              "      <td>0.841838</td>\n",
              "      <td>14.181209</td>\n",
              "      <td>0.896760</td>\n",
              "      <td>0.981429</td>\n",
              "      <td>55.907576</td>\n",
              "    </tr>\n",
              "    <tr>\n",
              "      <th>min</th>\n",
              "      <td>892.000000</td>\n",
              "      <td>1.000000</td>\n",
              "      <td>0.170000</td>\n",
              "      <td>0.000000</td>\n",
              "      <td>0.000000</td>\n",
              "      <td>0.000000</td>\n",
              "    </tr>\n",
              "    <tr>\n",
              "      <th>25%</th>\n",
              "      <td>996.250000</td>\n",
              "      <td>1.000000</td>\n",
              "      <td>21.000000</td>\n",
              "      <td>0.000000</td>\n",
              "      <td>0.000000</td>\n",
              "      <td>7.895800</td>\n",
              "    </tr>\n",
              "    <tr>\n",
              "      <th>50%</th>\n",
              "      <td>1100.500000</td>\n",
              "      <td>3.000000</td>\n",
              "      <td>27.000000</td>\n",
              "      <td>0.000000</td>\n",
              "      <td>0.000000</td>\n",
              "      <td>14.454200</td>\n",
              "    </tr>\n",
              "    <tr>\n",
              "      <th>75%</th>\n",
              "      <td>1204.750000</td>\n",
              "      <td>3.000000</td>\n",
              "      <td>39.000000</td>\n",
              "      <td>1.000000</td>\n",
              "      <td>0.000000</td>\n",
              "      <td>31.500000</td>\n",
              "    </tr>\n",
              "    <tr>\n",
              "      <th>max</th>\n",
              "      <td>1309.000000</td>\n",
              "      <td>3.000000</td>\n",
              "      <td>76.000000</td>\n",
              "      <td>8.000000</td>\n",
              "      <td>9.000000</td>\n",
              "      <td>512.329200</td>\n",
              "    </tr>\n",
              "  </tbody>\n",
              "</table>\n",
              "</div>\n",
              "      <button class=\"colab-df-convert\" onclick=\"convertToInteractive('df-c53e87d3-6a25-43c1-8d89-b944aa136851')\"\n",
              "              title=\"Convert this dataframe to an interactive table.\"\n",
              "              style=\"display:none;\">\n",
              "        \n",
              "  <svg xmlns=\"http://www.w3.org/2000/svg\" height=\"24px\"viewBox=\"0 0 24 24\"\n",
              "       width=\"24px\">\n",
              "    <path d=\"M0 0h24v24H0V0z\" fill=\"none\"/>\n",
              "    <path d=\"M18.56 5.44l.94 2.06.94-2.06 2.06-.94-2.06-.94-.94-2.06-.94 2.06-2.06.94zm-11 1L8.5 8.5l.94-2.06 2.06-.94-2.06-.94L8.5 2.5l-.94 2.06-2.06.94zm10 10l.94 2.06.94-2.06 2.06-.94-2.06-.94-.94-2.06-.94 2.06-2.06.94z\"/><path d=\"M17.41 7.96l-1.37-1.37c-.4-.4-.92-.59-1.43-.59-.52 0-1.04.2-1.43.59L10.3 9.45l-7.72 7.72c-.78.78-.78 2.05 0 2.83L4 21.41c.39.39.9.59 1.41.59.51 0 1.02-.2 1.41-.59l7.78-7.78 2.81-2.81c.8-.78.8-2.07 0-2.86zM5.41 20L4 18.59l7.72-7.72 1.47 1.35L5.41 20z\"/>\n",
              "  </svg>\n",
              "      </button>\n",
              "      \n",
              "  <style>\n",
              "    .colab-df-container {\n",
              "      display:flex;\n",
              "      flex-wrap:wrap;\n",
              "      gap: 12px;\n",
              "    }\n",
              "\n",
              "    .colab-df-convert {\n",
              "      background-color: #E8F0FE;\n",
              "      border: none;\n",
              "      border-radius: 50%;\n",
              "      cursor: pointer;\n",
              "      display: none;\n",
              "      fill: #1967D2;\n",
              "      height: 32px;\n",
              "      padding: 0 0 0 0;\n",
              "      width: 32px;\n",
              "    }\n",
              "\n",
              "    .colab-df-convert:hover {\n",
              "      background-color: #E2EBFA;\n",
              "      box-shadow: 0px 1px 2px rgba(60, 64, 67, 0.3), 0px 1px 3px 1px rgba(60, 64, 67, 0.15);\n",
              "      fill: #174EA6;\n",
              "    }\n",
              "\n",
              "    [theme=dark] .colab-df-convert {\n",
              "      background-color: #3B4455;\n",
              "      fill: #D2E3FC;\n",
              "    }\n",
              "\n",
              "    [theme=dark] .colab-df-convert:hover {\n",
              "      background-color: #434B5C;\n",
              "      box-shadow: 0px 1px 3px 1px rgba(0, 0, 0, 0.15);\n",
              "      filter: drop-shadow(0px 1px 2px rgba(0, 0, 0, 0.3));\n",
              "      fill: #FFFFFF;\n",
              "    }\n",
              "  </style>\n",
              "\n",
              "      <script>\n",
              "        const buttonEl =\n",
              "          document.querySelector('#df-c53e87d3-6a25-43c1-8d89-b944aa136851 button.colab-df-convert');\n",
              "        buttonEl.style.display =\n",
              "          google.colab.kernel.accessAllowed ? 'block' : 'none';\n",
              "\n",
              "        async function convertToInteractive(key) {\n",
              "          const element = document.querySelector('#df-c53e87d3-6a25-43c1-8d89-b944aa136851');\n",
              "          const dataTable =\n",
              "            await google.colab.kernel.invokeFunction('convertToInteractive',\n",
              "                                                     [key], {});\n",
              "          if (!dataTable) return;\n",
              "\n",
              "          const docLinkHtml = 'Like what you see? Visit the ' +\n",
              "            '<a target=\"_blank\" href=https://colab.research.google.com/notebooks/data_table.ipynb>data table notebook</a>'\n",
              "            + ' to learn more about interactive tables.';\n",
              "          element.innerHTML = '';\n",
              "          dataTable['output_type'] = 'display_data';\n",
              "          await google.colab.output.renderOutput(dataTable, element);\n",
              "          const docLink = document.createElement('div');\n",
              "          docLink.innerHTML = docLinkHtml;\n",
              "          element.appendChild(docLink);\n",
              "        }\n",
              "      </script>\n",
              "    </div>\n",
              "  </div>\n",
              "  "
            ]
          },
          "metadata": {},
          "execution_count": 87
        }
      ]
    },
    {
      "cell_type": "markdown",
      "source": [
        "* 변수설명\n",
        "\n",
        "\n",
        "1.   Survived : 생존 여부 , 0 : 사망, 1 : 생존\n",
        "2.   Pclass: 티켓 등급\n",
        "3.   Sex : 성별\n",
        "4.   Age\n",
        "5.   SibSp : 형제, 배우자 수\n",
        "6.   Parch : 부모나 자녀\n",
        "7.   Ticket : 티켓 번호\n",
        "8.   Fare : 티켓 요금\n",
        "9    Cabin : 방 번호\n",
        "10   Embarked : 승선 항구\n",
        "\n",
        "범주형 : pclass, sex, embarked - 변수 확인 필요\n",
        "\n",
        "티켓 번호, 티켓 요금, 이름, 방번호는 특별한 규칙이 발견되지 않으므로 일단 분석에서 제외.\n",
        "\n",
        "name에서 mr, mrs. 등 호칭 추출해 분석에 포함\n"
      ],
      "metadata": {
        "id": "gJk32gk_30ij"
      }
    },
    {
      "cell_type": "code",
      "source": [
        "## 범주형 변수 확인\n",
        "\n",
        "train_df.Sex.value_counts()\n",
        "train_df.Embarked.value_counts()\n",
        "train_df.Pclass.value_counts()"
      ],
      "metadata": {
        "colab": {
          "base_uri": "https://localhost:8080/"
        },
        "id": "pCL-jTEX4okh",
        "outputId": "7652130a-3468-4ab9-e870-012340a79d80"
      },
      "execution_count": 88,
      "outputs": [
        {
          "output_type": "execute_result",
          "data": {
            "text/plain": [
              "3    491\n",
              "1    216\n",
              "2    184\n",
              "Name: Pclass, dtype: int64"
            ]
          },
          "metadata": {},
          "execution_count": 88
        }
      ]
    },
    {
      "cell_type": "code",
      "source": [
        "## survived 과 각 특징간의 대략적 관계 시각화.\n",
        "### survived ~ pclass\n",
        "\n",
        "surv_pclass = train_df.groupby(['Pclass']).Survived.mean().reset_index()\n",
        "surv_pclass.plot.bar(x = 'Pclass', y=  'Survived')"
      ],
      "metadata": {
        "colab": {
          "base_uri": "https://localhost:8080/",
          "height": 294
        },
        "id": "1XAJ1Mh63TDu",
        "outputId": "0ce383ad-a8cd-4692-a906-5e793a948124"
      },
      "execution_count": 89,
      "outputs": [
        {
          "output_type": "execute_result",
          "data": {
            "text/plain": [
              "<matplotlib.axes._subplots.AxesSubplot at 0x7f34bdb2ed50>"
            ]
          },
          "metadata": {},
          "execution_count": 89
        },
        {
          "output_type": "display_data",
          "data": {
            "text/plain": [
              "<Figure size 432x288 with 1 Axes>"
            ],
            "image/png": "[encoded data removed]"
          },
          "metadata": {
            "needs_background": "light"
          }
        }
      ]
    },
    {
      "cell_type": "code",
      "source": [
        "### survived - sex\n",
        "\n",
        "surv_sex = train_df.groupby(['Sex']).Survived.mean().reset_index()\n",
        "surv_sex.plot.bar(x = 'Sex', y = 'Survived')"
      ],
      "metadata": {
        "colab": {
          "base_uri": "https://localhost:8080/",
          "height": 322
        },
        "id": "PwnnhOwi61aL",
        "outputId": "b96597a4-6e18-41cd-84e3-1c330e97b2b3"
      },
      "execution_count": 90,
      "outputs": [
        {
          "output_type": "execute_result",
          "data": {
            "text/plain": [
              "<matplotlib.axes._subplots.AxesSubplot at 0x7f34bdafaa90>"
            ]
          },
          "metadata": {},
          "execution_count": 90
        },
        {
          "output_type": "display_data",
          "data": {
            "text/plain": [
              "<Figure size 432x288 with 1 Axes>"
            ],
            "image/png": "[encoded data removed]"
          },
          "metadata": {
            "needs_background": "light"
          }
        }
      ]
    },
    {
      "cell_type": "code",
      "source": [
        "### survived - age\n",
        "\n",
        "train_df['Agebin'] = pd.cut(train_df.Age,\n",
        "                            bins = np.array([0,10,20,30,40,50,60,70,80,90,100]))\n",
        "\n",
        "surv_age=  train_df.groupby(['Agebin']).Survived.mean()\n",
        "surv_age.plot.bar(x = 'Agebin', y= 'Survived')\n"
      ],
      "metadata": {
        "colab": {
          "base_uri": "https://localhost:8080/",
          "height": 333
        },
        "id": "YQx0cxfz7LO6",
        "outputId": "bc0f8c29-d6b2-46be-e231-7b52c56dfbeb"
      },
      "execution_count": 91,
      "outputs": [
        {
          "output_type": "execute_result",
          "data": {
            "text/plain": [
              "<matplotlib.axes._subplots.AxesSubplot at 0x7f34bda68e50>"
            ]
          },
          "metadata": {},
          "execution_count": 91
        },
        {
          "output_type": "display_data",
          "data": {
            "text/plain": [
              "<Figure size 432x288 with 1 Axes>"
            ],
            "image/png": "[encoded data removed]"
          },
          "metadata": {
            "needs_background": "light"
          }
        }
      ]
    },
    {
      "cell_type": "code",
      "source": [
        "### survived - embarked\n",
        "\n",
        "surv_emb = train_df.groupby(['Embarked']).Survived.mean()\n",
        "surv_emb.plot.bar(x = 'Embarked',y = 'Survived')"
      ],
      "metadata": {
        "colab": {
          "base_uri": "https://localhost:8080/",
          "height": 295
        },
        "id": "yTopdLYS-ZaJ",
        "outputId": "8fe5a3de-ec2f-406b-fee5-4cd6f6c052c2"
      },
      "execution_count": 92,
      "outputs": [
        {
          "output_type": "execute_result",
          "data": {
            "text/plain": [
              "<matplotlib.axes._subplots.AxesSubplot at 0x7f34bd9f32d0>"
            ]
          },
          "metadata": {},
          "execution_count": 92
        },
        {
          "output_type": "display_data",
          "data": {
            "text/plain": [
              "<Figure size 432x288 with 1 Axes>"
            ],
            "image/png": "[encoded data removed]"
          },
          "metadata": {
            "needs_background": "light"
          }
        }
      ]
    },
    {
      "cell_type": "code",
      "source": [
        "### survived - fare\n",
        "\n",
        "fare_bin = pd.qcut(train_df.Fare, 10)\n",
        "surv_fare = train_df.groupby(fare_bin).Survived.mean().reset_index()\n",
        "\n",
        "surv_fare.plot.bar(x = 'Fare', y = 'Survived')"
      ],
      "metadata": {
        "colab": {
          "base_uri": "https://localhost:8080/",
          "height": 378
        },
        "id": "5VRlRhG4DqMv",
        "outputId": "8d71e80d-09d9-4164-f54d-1bdb80f0443b"
      },
      "execution_count": 93,
      "outputs": [
        {
          "output_type": "execute_result",
          "data": {
            "text/plain": [
              "<matplotlib.axes._subplots.AxesSubplot at 0x7f34bd952f90>"
            ]
          },
          "metadata": {},
          "execution_count": 93
        },
        {
          "output_type": "display_data",
          "data": {
            "text/plain": [
              "<Figure size 432x288 with 1 Axes>"
            ],
            "image/png": "[encoded data removed]"
          },
          "metadata": {
            "needs_background": "light"
          }
        }
      ]
    },
    {
      "cell_type": "code",
      "source": [
        "### survivd - sibsp\n",
        "\n",
        "train_df.groupby(['SibSp']).Survived.mean()"
      ],
      "metadata": {
        "colab": {
          "base_uri": "https://localhost:8080/"
        },
        "id": "v1rl9NzeFVrN",
        "outputId": "4c5c84b6-d625-4ae8-fd8e-98d2f842c41f"
      },
      "execution_count": 94,
      "outputs": [
        {
          "output_type": "execute_result",
          "data": {
            "text/plain": [
              "SibSp\n",
              "0    0.345395\n",
              "1    0.535885\n",
              "2    0.464286\n",
              "3    0.250000\n",
              "4    0.166667\n",
              "5    0.000000\n",
              "8    0.000000\n",
              "Name: Survived, dtype: float64"
            ]
          },
          "metadata": {},
          "execution_count": 94
        }
      ]
    },
    {
      "cell_type": "code",
      "source": [
        "# 결측치 처리\n",
        "\n",
        "all_df = pd.concat([train_df, test_df])\n",
        "\n",
        "all_df.isnull().sum()"
      ],
      "metadata": {
        "colab": {
          "base_uri": "https://localhost:8080/"
        },
        "id": "PM4nXGQVKThW",
        "outputId": "b8e5145f-89c5-490c-e3e7-f7185f96dae3"
      },
      "execution_count": 95,
      "outputs": [
        {
          "output_type": "execute_result",
          "data": {
            "text/plain": [
              "PassengerId       0\n",
              "Survived        418\n",
              "Pclass            0\n",
              "Name              0\n",
              "Sex               0\n",
              "Age             263\n",
              "SibSp             0\n",
              "Parch             0\n",
              "Ticket            0\n",
              "Fare              1\n",
              "Cabin          1014\n",
              "Embarked          2\n",
              "Agebin          595\n",
              "dtype: int64"
            ]
          },
          "metadata": {},
          "execution_count": 95
        }
      ]
    },
    {
      "cell_type": "code",
      "source": [
        "### callname 추출\n",
        "\n",
        "name_df = all_df.Name.str.split(' ', 2, expand = True)\n",
        "\n",
        "name_df.columns = ['fam_name', 'callname','name']\n",
        "\n",
        "name_df.callname.value_counts()"
      ],
      "metadata": {
        "colab": {
          "base_uri": "https://localhost:8080/"
        },
        "id": "L6S0s9E4M_-j",
        "outputId": "334d9719-8e82-4d74-c08b-70549cdc0eda"
      },
      "execution_count": 96,
      "outputs": [
        {
          "output_type": "execute_result",
          "data": {
            "text/plain": [
              "Mr.             736\n",
              "Miss.           256\n",
              "Mrs.            191\n",
              "Master.          59\n",
              "Dr.               8\n",
              "Rev.              8\n",
              "y                 8\n",
              "Planke,           4\n",
              "Col.              4\n",
              "Impe,             3\n",
              "Billiard,         3\n",
              "Mlle.             2\n",
              "Carlo,            2\n",
              "Ms.               2\n",
              "Major.            2\n",
              "Gordon,           2\n",
              "Messemaeker,      2\n",
              "Velde,            1\n",
              "Palmquist,        1\n",
              "Khalil,           1\n",
              "Cruyssen,         1\n",
              "Melkebeke,        1\n",
              "Jonkheer.         1\n",
              "Shawah,           1\n",
              "the               1\n",
              "Walle,            1\n",
              "Capt.             1\n",
              "Don.              1\n",
              "Pelsmaeker,       1\n",
              "Mme.              1\n",
              "Steen,            1\n",
              "der               1\n",
              "Mulder,           1\n",
              "Brito,            1\n",
              "Name: callname, dtype: int64"
            ]
          },
          "metadata": {},
          "execution_count": 96
        }
      ]
    },
    {
      "cell_type": "code",
      "source": [
        "## age를 callname 평균값으로 대체하자.\n",
        "\n",
        "all_df['callname'] = name_df.callname\n",
        "\n",
        "trans = all_df.groupby(['callname']).Age.transform('mean')\n",
        "\n",
        "all_df.Age[all_df.Age.isnull()] = trans[all_df.Age.isnull()]\n",
        "\n",
        "#그래도 결측값 하나 있음.\n"
      ],
      "metadata": {
        "colab": {
          "base_uri": "https://localhost:8080/"
        },
        "id": "lZgl4KqFMuJV",
        "outputId": "7d1ff71c-6a65-40d1-b714-1718e1590c3c"
      },
      "execution_count": 97,
      "outputs": [
        {
          "output_type": "stream",
          "name": "stderr",
          "text": [
            "/usr/local/lib/python3.7/dist-packages/ipykernel_launcher.py:7: SettingWithCopyWarning: \n",
            "A value is trying to be set on a copy of a slice from a DataFrame\n",
            "\n",
            "See the caveats in the documentation: https://pandas.pydata.org/pandas-docs/stable/user_guide/indexing.html#returning-a-view-versus-a-copy\n",
            "  import sys\n",
            "/usr/local/lib/python3.7/dist-packages/pandas/core/indexing.py:1732: SettingWithCopyWarning: \n",
            "A value is trying to be set on a copy of a slice from a DataFrame\n",
            "\n",
            "See the caveats in the documentation: https://pandas.pydata.org/pandas-docs/stable/user_guide/indexing.html#returning-a-view-versus-a-copy\n",
            "  self._setitem_single_block(indexer, value, name)\n"
          ]
        }
      ]
    },
    {
      "cell_type": "code",
      "source": [
        "all_df.columns"
      ],
      "metadata": {
        "colab": {
          "base_uri": "https://localhost:8080/"
        },
        "id": "13KKZGXTEUWK",
        "outputId": "701475b9-1978-4f77-c051-4681b81e5b11"
      },
      "execution_count": 98,
      "outputs": [
        {
          "output_type": "execute_result",
          "data": {
            "text/plain": [
              "Index(['PassengerId', 'Survived', 'Pclass', 'Name', 'Sex', 'Age', 'SibSp',\n",
              "       'Parch', 'Ticket', 'Fare', 'Cabin', 'Embarked', 'Agebin', 'callname'],\n",
              "      dtype='object')"
            ]
          },
          "metadata": {},
          "execution_count": 98
        }
      ]
    },
    {
      "cell_type": "code",
      "source": [
        "all_df = pd.get_dummies(all_df, columns = ['Embarked','Sex'])\n",
        "all_df = all_df.drop(['Name','Cabin','Ticket','Agebin'], axis=  1)"
      ],
      "metadata": {
        "id": "w9-yA5_jNLNu"
      },
      "execution_count": 99,
      "outputs": []
    },
    {
      "cell_type": "markdown",
      "source": [
        "무슨 모델을 적용할 것인가?\n",
        "\n",
        "데이터 셋 특징 : 고려 특징 개수 많음 -> 선형모델?\n",
        "\n",
        "\n",
        "ㅇㅋ 먼저 선형모델 적용해보겠음."
      ],
      "metadata": {
        "id": "OtG813f4dAR-"
      }
    },
    {
      "cell_type": "code",
      "source": [
        "# train, test, 셋 다시 분할\n",
        "training = all_df.iloc[:891].dropna()\n",
        "\n",
        "\n",
        "X_train = training.drop(['Survived', 'PassengerId','callname'], axis = 1)\n",
        "y_train = training.Survived\n",
        "\n",
        "\n",
        "X_test = all_df.iloc[891:].drop(['Survived', 'PassengerId','callname'], axis = 1)"
      ],
      "metadata": {
        "id": "O74V_I2Rf8pr"
      },
      "execution_count": 100,
      "outputs": []
    },
    {
      "cell_type": "code",
      "source": [
        "# 다중공선성 체크\n",
        "\n",
        "plt.figure(figsize = (9,9))\n",
        "sns.heatmap(all_df.corr(), vmin = -1, vmax = 1, annot = True)"
      ],
      "metadata": {
        "colab": {
          "base_uri": "https://localhost:8080/",
          "height": 612
        },
        "id": "_G0GZGfAgm7u",
        "outputId": "8499ea54-b02a-42d3-91f8-98b3738bd322"
      },
      "execution_count": 101,
      "outputs": [
        {
          "output_type": "execute_result",
          "data": {
            "text/plain": [
              "<matplotlib.axes._subplots.AxesSubplot at 0x7f34c3443310>"
            ]
          },
          "metadata": {},
          "execution_count": 101
        },
        {
          "output_type": "display_data",
          "data": {
            "text/plain": [
              "<Figure size 648x648 with 2 Axes>"
            ],
            "image/png": "[encoded data removed]"
          },
          "metadata": {
            "needs_background": "light"
          }
        }
      ]
    },
    {
      "cell_type": "code",
      "source": [
        "# 특징 수가 많으므로 로지스틱 회귀 적용해보겠다.\n",
        "\n",
        "from sklearn.linear_model import LogisticRegression\n",
        "from sklearn.pipeline import Pipeline\n",
        "from sklearn.model_selection import cross_val_score, GridSearchCV\n",
        "from sklearn.preprocessing import StandardScaler\n",
        "from sklearn.compose import ColumnTransformer\n"
      ],
      "metadata": {
        "id": "jhmKY5Jdh-yY"
      },
      "execution_count": 102,
      "outputs": []
    },
    {
      "cell_type": "code",
      "source": [
        "ct = ColumnTransformer(\n",
        "    [('scaling' , StandardScaler(), ['Age', 'Fare'])]\n",
        ")\n",
        "\n",
        "pipe = Pipeline([('scaler' , ct),\n",
        "                 ('logistic', LogisticRegression())])\n",
        "\n",
        "pipe.fit(X_train, y_train)\n",
        "\n",
        "param_grid = {'logistic__C' : [0.001, 0.01, 0.1, 1, 10,100]}\n",
        "grid = GridSearchCV(pipe, param_grid = param_grid, cv = 5)\n",
        "\n",
        "grid.fit(X_train,y_train)\n",
        "grid.best_params_\n",
        "grid.best_score_\n"
      ],
      "metadata": {
        "colab": {
          "base_uri": "https://localhost:8080/"
        },
        "id": "JaDJGQVylsue",
        "outputId": "b45be352-bfe9-4167-9eb4-8b462222fac1"
      },
      "execution_count": 103,
      "outputs": [
        {
          "output_type": "execute_result",
          "data": {
            "text/plain": [
              "0.6595505617977528"
            ]
          },
          "metadata": {},
          "execution_count": 103
        }
      ]
    },
    {
      "cell_type": "code",
      "source": [
        "train_df.groupby(['SibSp']).Survived.mean()"
      ],
      "metadata": {
        "colab": {
          "base_uri": "https://localhost:8080/"
        },
        "id": "MvJROb9IGiap",
        "outputId": "b2e7fd4e-cc89-4d51-d91f-e92197ab1f9e"
      },
      "execution_count": 104,
      "outputs": [
        {
          "output_type": "execute_result",
          "data": {
            "text/plain": [
              "SibSp\n",
              "0    0.345395\n",
              "1    0.535885\n",
              "2    0.464286\n",
              "3    0.250000\n",
              "4    0.166667\n",
              "5    0.000000\n",
              "8    0.000000\n",
              "Name: Survived, dtype: float64"
            ]
          },
          "metadata": {},
          "execution_count": 104
        }
      ]
    },
    {
      "cell_type": "code",
      "source": [
        "train_df.groupby(['Parch']).Survived.mean()"
      ],
      "metadata": {
        "colab": {
          "base_uri": "https://localhost:8080/"
        },
        "id": "pUOhxRXHG7tU",
        "outputId": "a99c3762-24b0-4d49-e1a1-d01cfa8f7074"
      },
      "execution_count": 105,
      "outputs": [
        {
          "output_type": "execute_result",
          "data": {
            "text/plain": [
              "Parch\n",
              "0    0.343658\n",
              "1    0.550847\n",
              "2    0.500000\n",
              "3    0.600000\n",
              "4    0.000000\n",
              "5    0.200000\n",
              "6    0.000000\n",
              "Name: Survived, dtype: float64"
            ]
          },
          "metadata": {},
          "execution_count": 105
        }
      ]
    },
    {
      "cell_type": "markdown",
      "source": [
        "초기 로지스틱 회귀의 교차검증 정확도는 66% 가량. 만족스럽지는 않은 결과다.\n",
        "\n",
        "1.   문제점 : 상호작용, power항 배제\n",
        "\n",
        "2.   각 변수 - surv 관계에 비선형성 발견\n",
        "\n",
        "\n"
      ],
      "metadata": {
        "id": "DFpj-PbemRjT"
      }
    },
    {
      "cell_type": "markdown",
      "source": [
        "- 다른 모델 사용해보자.\n",
        "\n",
        "- random forest, gradient boosting\n",
        "- svm"
      ],
      "metadata": {
        "id": "8iOD0shAHdtO"
      }
    },
    {
      "cell_type": "code",
      "source": [
        "from sklearn.ensemble import RandomForestClassifier, GradientBoostingClassifier"
      ],
      "metadata": {
        "id": "XVEKD3DGINYf"
      },
      "execution_count": 106,
      "outputs": []
    },
    {
      "cell_type": "code",
      "source": [
        "# random forest\n",
        "## random forest 는 전처리가 필요가 없음.\n",
        "\n",
        "pipe = Pipeline([('random_forest', RandomForestClassifier(n_estimators = 100) )])\n",
        "pipe.fit(X_train, y_train)\n",
        "\n",
        "cross_val_score(pipe, X_train, y_train).mean()"
      ],
      "metadata": {
        "colab": {
          "base_uri": "https://localhost:8080/"
        },
        "id": "edP7vBnxH-5y",
        "outputId": "61ef9672-23e2-4f33-c2d0-b44bf7393e3d"
      },
      "execution_count": 107,
      "outputs": [
        {
          "output_type": "execute_result",
          "data": {
            "text/plain": [
              "0.8112359550561796"
            ]
          },
          "metadata": {},
          "execution_count": 107
        }
      ]
    },
    {
      "cell_type": "code",
      "source": [
        "pipe = Pipeline([('gb', GradientBoostingClassifier(n_estimators=  100))])\n",
        "pipe.fit(X_train, y_train)\n",
        "\n",
        "param_grid = {'gb__learning_rate' : [0.1, 0.5, 1, 5, 10],\n",
        "              'gb__max_depth' : [1,2,3]}\n",
        "\n",
        "grid = GridSearchCV(pipe, param_grid)\n",
        "grid.fit(X_train, y_train)\n",
        "\n",
        "grid.best_params_\n",
        "grid.best_score_\n",
        "\n",
        "best_model = grid"
      ],
      "metadata": {
        "id": "cbZz4_vMJZ_n"
      },
      "execution_count": 122,
      "outputs": []
    },
    {
      "cell_type": "markdown",
      "source": [
        "\n",
        "\n",
        "*   항목 추가\n",
        "*   항목 추가\n",
        "\n",
        "\n",
        "랜덤 포레스트의 정확도는 80% 가량. 선형모델에 비해 더 좋은 성능을 발휘한다."
      ],
      "metadata": {
        "id": "bMqYbr9FJBIJ"
      }
    },
    {
      "cell_type": "markdown",
      "source": [
        "gradient boosting을 통해 정확도 83퍼까지 향상."
      ],
      "metadata": {
        "id": "uZ8XBVGpjaW0"
      }
    },
    {
      "cell_type": "code",
      "source": [
        "##SVM 적용\n",
        "\n",
        "from sklearn.svm import SVC\n",
        "\n",
        "ct = ColumnTransformer([('scailng', StandardScaler(), ['Age','Fare'])]) \n",
        "\n",
        "pipe = Pipeline([('scaler', ct),\n",
        "                 ('svm', SVC())])\n",
        "\n",
        "param_grid = [{'svm__kernel' : ['rbf'], 'svm__C' : [0.001, 0.01, 0.1, 1, 10,100], 'svm__gamma' : [0.001, 0.01, 0.1, 1, 10,100]},\n",
        "              {'svm__kernel' : ['linear'], 'svm__C' : [0.001, 0.01, 0.1, 1, 10,100]}]\n"
      ],
      "metadata": {
        "id": "Z__hcpdijiU-"
      },
      "execution_count": 115,
      "outputs": []
    },
    {
      "cell_type": "code",
      "source": [
        "pipe.fit(X_train, y_train)\n",
        "\n",
        "grid=  GridSearchCV(pipe, param_grid)\n",
        "grid.fit(X_train, y_train)"
      ],
      "metadata": {
        "id": "VuQWnei7606K",
        "outputId": "bb9e3c0f-aa7b-4cf8-c306-a8cdc9a2f1b3",
        "colab": {
          "base_uri": "https://localhost:8080/",
          "height": 209
        }
      },
      "execution_count": 117,
      "outputs": [
        {
          "output_type": "error",
          "ename": "AttributeError",
          "evalue": "ignored",
          "traceback": [
            "\u001b[0;31m---------------------------------------------------------------------------\u001b[0m",
            "\u001b[0;31mAttributeError\u001b[0m                            Traceback (most recent call last)",
            "\u001b[0;32m<ipython-input-117-11b9c7953960>\u001b[0m in \u001b[0;36m<module>\u001b[0;34m()\u001b[0m\n\u001b[1;32m      4\u001b[0m \u001b[0mgrid\u001b[0m\u001b[0;34m.\u001b[0m\u001b[0mfit\u001b[0m\u001b[0;34m(\u001b[0m\u001b[0mX_train\u001b[0m\u001b[0;34m,\u001b[0m \u001b[0my_train\u001b[0m\u001b[0;34m)\u001b[0m\u001b[0;34m\u001b[0m\u001b[0;34m\u001b[0m\u001b[0m\n\u001b[1;32m      5\u001b[0m \u001b[0;34m\u001b[0m\u001b[0m\n\u001b[0;32m----> 6\u001b[0;31m \u001b[0mgrid\u001b[0m\u001b[0;34m.\u001b[0m\u001b[0mbest_param_\u001b[0m\u001b[0;34m\u001b[0m\u001b[0;34m\u001b[0m\u001b[0m\n\u001b[0m",
            "\u001b[0;31mAttributeError\u001b[0m: 'GridSearchCV' object has no attribute 'best_param_'"
          ]
        }
      ]
    },
    {
      "cell_type": "code",
      "source": [
        "grid.best_params_"
      ],
      "metadata": {
        "id": "eM-M39dN8hqq",
        "outputId": "7a29f4f2-cbf6-419b-ab1d-c151675857f8",
        "colab": {
          "base_uri": "https://localhost:8080/"
        }
      },
      "execution_count": 118,
      "outputs": [
        {
          "output_type": "execute_result",
          "data": {
            "text/plain": [
              "{'svm__C': 1, 'svm__gamma': 10, 'svm__kernel': 'rbf'}"
            ]
          },
          "metadata": {},
          "execution_count": 118
        }
      ]
    },
    {
      "cell_type": "markdown",
      "source": [
        "Gradient Boosting model이 가장 좋은 성능을 낸다."
      ],
      "metadata": {
        "id": "zdMaOcUm8kmS"
      }
    },
    {
      "cell_type": "code",
      "source": [
        "fare_grouped = X_test.groupby('Pclass').Fare.transform('mean')\n",
        "\n",
        "X_test.Fare[X_test.Fare.isnull()] = fare_grouped[X_test.Fare.isnull()]\n"
      ],
      "metadata": {
        "id": "l5IpC03M9Vl5",
        "outputId": "27a94eab-58ca-42c4-8cba-1785c5c9e465",
        "colab": {
          "base_uri": "https://localhost:8080/"
        }
      },
      "execution_count": 133,
      "outputs": [
        {
          "output_type": "stream",
          "name": "stderr",
          "text": [
            "/usr/local/lib/python3.7/dist-packages/ipykernel_launcher.py:3: SettingWithCopyWarning: \n",
            "A value is trying to be set on a copy of a slice from a DataFrame\n",
            "\n",
            "See the caveats in the documentation: https://pandas.pydata.org/pandas-docs/stable/user_guide/indexing.html#returning-a-view-versus-a-copy\n",
            "  This is separate from the ipykernel package so we can avoid doing imports until\n"
          ]
        },
        {
          "output_type": "execute_result",
          "data": {
            "text/plain": [
              "Pclass        0\n",
              "Age           0\n",
              "SibSp         0\n",
              "Parch         0\n",
              "Fare          0\n",
              "Embarked_C    0\n",
              "Embarked_Q    0\n",
              "Embarked_S    0\n",
              "Sex_female    0\n",
              "Sex_male      0\n",
              "dtype: int64"
            ]
          },
          "metadata": {},
          "execution_count": 133
        }
      ]
    },
    {
      "cell_type": "code",
      "source": [
        "result = pd.read_csv('/content/titanic/data/gender_submission.csv')\n",
        "\n",
        "best_model.fit(X_train, y_train)\n",
        "best_model.predict(X_test)\n"
      ],
      "metadata": {
        "id": "AfFFsgQQ98b3",
        "outputId": "f00bb4be-5441-464d-8b01-02da2d353a3b",
        "colab": {
          "base_uri": "https://localhost:8080/"
        }
      },
      "execution_count": 134,
      "outputs": [
        {
          "output_type": "execute_result",
          "data": {
            "text/plain": [
              "array([0., 0., 0., 0., 0., 0., 1., 0., 1., 0., 0., 0., 1., 0., 1., 1., 0.,\n",
              "       0., 1., 1., 0., 1., 1., 1., 1., 0., 1., 0., 0., 0., 0., 0., 0., 0.,\n",
              "       1., 0., 0., 0., 0., 0., 0., 0., 0., 1., 1., 0., 0., 0., 1., 1., 0.,\n",
              "       0., 1., 1., 0., 0., 0., 0., 0., 1., 0., 0., 0., 1., 1., 1., 1., 0.,\n",
              "       0., 1., 1., 0., 0., 1., 1., 0., 0., 1., 0., 1., 1., 0., 0., 0., 0.,\n",
              "       0., 1., 0., 1., 1., 0., 0., 1., 0., 0., 0., 1., 0., 0., 0., 1., 0.,\n",
              "       0., 0., 1., 0., 0., 0., 0., 0., 0., 1., 1., 1., 1., 0., 0., 1., 1.,\n",
              "       1., 1., 0., 1., 0., 0., 1., 0., 1., 0., 0., 0., 0., 0., 0., 0., 0.,\n",
              "       0., 0., 0., 0., 0., 1., 0., 0., 1., 0., 0., 0., 0., 0., 1., 0., 0.,\n",
              "       0., 0., 0., 1., 0., 1., 0., 1., 1., 1., 0., 0., 0., 0., 0., 1., 0.,\n",
              "       0., 0., 0., 0., 0., 1., 1., 0., 1., 1., 0., 0., 1., 0., 1., 0., 1.,\n",
              "       0., 0., 0., 0., 0., 0., 0., 1., 0., 1., 0., 0., 0., 1., 1., 0., 1.,\n",
              "       0., 0., 1., 0., 1., 0., 0., 0., 0., 1., 1., 0., 1., 0., 1., 0., 1.,\n",
              "       0., 1., 0., 1., 0., 0., 1., 0., 0., 0., 1., 0., 0., 1., 0., 0., 0.,\n",
              "       1., 1., 1., 1., 1., 0., 1., 0., 1., 0., 1., 0., 1., 0., 0., 0., 0.,\n",
              "       0., 0., 0., 1., 0., 0., 0., 1., 1., 0., 0., 0., 0., 0., 0., 0., 0.,\n",
              "       1., 1., 0., 1., 0., 0., 0., 0., 0., 1., 1., 1., 1., 0., 0., 0., 0.,\n",
              "       0., 0., 0., 0., 0., 0., 0., 1., 0., 0., 0., 0., 0., 0., 0., 1., 1.,\n",
              "       0., 1., 0., 0., 0., 0., 0., 1., 1., 1., 0., 0., 0., 0., 0., 0., 0.,\n",
              "       0., 1., 0., 1., 0., 0., 0., 1., 0., 0., 1., 0., 0., 0., 0., 0., 1.,\n",
              "       0., 0., 0., 1., 0., 1., 0., 1., 0., 1., 1., 0., 0., 0., 1., 0., 1.,\n",
              "       0., 0., 0., 0., 1., 1., 0., 1., 0., 0., 0., 1., 0., 0., 1., 0., 0.,\n",
              "       1., 1., 0., 0., 0., 0., 0., 0., 0., 0., 0., 1., 0., 0., 0., 0., 0.,\n",
              "       1., 0., 0., 0., 1., 0., 1., 0., 0., 1., 0., 1., 0., 0., 0., 0., 0.,\n",
              "       1., 1., 1., 1., 0., 0., 1., 0., 0., 1.])"
            ]
          },
          "metadata": {},
          "execution_count": 134
        }
      ]
    },
    {
      "cell_type": "code",
      "source": [
        "result.Survived = best_model.predict(X_test).astype(int)"
      ],
      "metadata": {
        "id": "xdQrq6iS-Gpg"
      },
      "execution_count": 138,
      "outputs": []
    },
    {
      "cell_type": "code",
      "source": [
        "result.to_csv('/content/titanic/data/result.csv', index= False)"
      ],
      "metadata": {
        "id": "dLoclNpi9prU"
      },
      "execution_count": 140,
      "outputs": []
    }
  ]
}